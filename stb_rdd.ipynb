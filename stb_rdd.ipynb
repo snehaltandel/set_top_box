{
 "cells": [
  {
   "cell_type": "code",
   "execution_count": 1,
   "metadata": {},
   "outputs": [],
   "source": [
    "from pyspark import SparkContext, SparkConf\n",
    "\n",
    "conf = SparkConf().setAppName('stb_scratch').setMaster('local[*]')\n",
    "sc = SparkContext(conf=conf)\n",
    "\n",
    "lines = sc.textFile(\"/Users/snehalbhaitandel/Projects/data/Set_Top_Box_Data.txt\")\n",
    "d_id = lines.map(lambda x:x.split(\"^\")[5])\n",
    "xmld = lines.map(lambda x:x.split(\"^\")[4])"
   ]
  },
  {
   "cell_type": "markdown",
   "metadata": {},
   "source": [
    "d_id = lines.map(lambda x:x.split(\"^\")[5])"
   ]
  },
  {
   "cell_type": "code",
   "execution_count": 2,
   "metadata": {},
   "outputs": [],
   "source": [
    "from pyspark.sql import SQLContext\n",
    "from pyspark.sql.types import *\n",
    "from pyspark.sql.functions import col\n",
    "sqlc = SQLContext(sc)\n",
    "rdd = lines.map(lambda x:x.split(\"^\"))\n",
    "schema = StructType([StructField(\"Server_Unique_ID\", StringType(), True), StructField(\"Test_ID\", StringType(), False),\\\n",
    "                                 StructField(\"Event_ID\", StringType(), False), StructField(\"Time\", StringType(), False), \\\n",
    "                                 StructField(\"XMLD\", StringType(), False), StructField(\"Device_ID\", StringType(), False), \\\n",
    "                                StructField(\"Secondary_Time\", StringType(), False)])\n",
    "df = sqlc.createDataFrame(rdd, schema=schema)\n"
   ]
  },
  {
   "cell_type": "code",
   "execution_count": 18,
   "metadata": {},
   "outputs": [],
   "source": [
    "from pyspark.sql.functions import udf\n",
    "import datetime\n",
    "import xml.etree.ElementTree as ET\n",
    "import pyspark.sql.functions as F\n",
    "def xml_data(x):\n",
    "    raw = ET.fromstring(x)\n",
    "    for nv in raw.iter(\"nv\"):\n",
    "        kv = dict(nv.attrib)\n",
    "        k = kv[\"n\"]\n",
    "        v = kv[\"v\"]\n",
    "        if k == \"Duration\":\n",
    "            return v\n",
    "\n",
    "xml_udf = udf(lambda x: xml_data(x))\n",
    "\n",
    "df = df.withColumn(\"Duration\", xml_udf(\"XMLD\").cast(LongType()))\n",
    "# df.select(\"Duration\").count()\n",
    "# df.write.format(\"csv\").option(\"header\", \"true\").save(\"/Users/snehalbhaitandel/Projects/data/stb\"+str(datetime.datetime.now()))"
   ]
  },
  {
   "cell_type": "code",
   "execution_count": 20,
   "metadata": {},
   "outputs": [
    {
     "name": "stdout",
     "output_type": "stream",
     "text": [
      "+----------------+-------+--------+--------------------+--------------------+--------------------+--------------+--------+\n",
      "|Server_Unique_ID|Test_ID|Event_ID|                Time|                XMLD|           Device_ID|Secondary_Time|Duration|\n",
      "+----------------+-------+--------+--------------------+--------------------+--------------------+--------------+--------+\n",
      "|           11001|      1|     100|2015-06-05 22:35:...|<d><nv n=\"ExtStat...|0122648d-4352-4ee...|    2016060601|   24375|\n",
      "|           11001|      1|     100|2015-06-05 22:35:...|<d><nv n=\"ExtStat...|0122648d-4352-4ee...|    2016060601| 1520565|\n",
      "|           11001|      1|     100|2015-06-05 23:01:...|<d><nv n=\"ExtStat...|0122648d-4352-4ee...|    2016060601| 2926708|\n",
      "|           11001|      1|     100|2015-06-06 00:29:...|<d><nv n=\"ExtStat...|0122648d-4352-4ee...|    2016060601|  924979|\n",
      "|           11001|      1|     100|2015-06-06 00:44:...|<d><nv n=\"ExtStat...|0122648d-4352-4ee...|    2016060601|  716513|\n",
      "|           11001|      1|     100|2015-06-06 00:56:...|<d><nv n=\"ExtStat...|0122648d-4352-4ee...|    2016060601|   26716|\n",
      "|           11001|      1|     100|2015-06-04 19:00:...|<d><nv n=\"ExtStat...|01268703-4d56-497...|    2016060601|28750201|\n",
      "|           11001|      1|     100|2015-06-05 11:15:...|<d><nv n=\"ExtStat...|01268703-4d56-497...|    2016060601|  102603|\n",
      "|           11001|      1|     100|2015-06-05 11:17:...|<d><nv n=\"ExtStat...|01268703-4d56-497...|    2016060601|28744574|\n",
      "|           11001|      1|     100|2015-06-05 21:34:...|<d><nv n=\"ExtStat...|0128e1ed-7544-43b...|    2016060601|   32071|\n",
      "|           11001|      1|     100|2015-06-05 21:35:...|<d><nv n=\"ExtStat...|0128e1ed-7544-43b...|    2016060601| 4237691|\n",
      "|           11001|      1|     100|2015-06-05 22:46:...|<d><nv n=\"ExtStat...|0128e1ed-7544-43b...|    2016060601|  453879|\n",
      "|           11001|      1|     100|2015-06-05 21:28:...|<d><nv n=\"ExtStat...|012e0551-546b-42c...|    2016060601|  171392|\n",
      "|           11001|      1|     100|2015-06-05 21:31:...|<d><nv n=\"ExtStat...|012e0551-546b-42c...|    2016060601|  340835|\n",
      "|           11001|      1|     100|2015-06-05 21:37:...|<d><nv n=\"ExtStat...|012e0551-546b-42c...|    2016060601|  231954|\n",
      "|           11001|      1|     100|2015-06-05 21:41:...|<d><nv n=\"ExtStat...|012e0551-546b-42c...|    2016060601|   26269|\n",
      "|           11001|      1|     100|2015-06-05 21:41:...|<d><nv n=\"ExtStat...|012e0551-546b-42c...|    2016060601| 3022931|\n",
      "|           11001|      1|     100|2015-06-05 22:32:...|<d><nv n=\"ExtStat...|012e0551-546b-42c...|    2016060601|  481366|\n",
      "|           11001|      1|     100|2015-06-04 20:59:...|<d><nv n=\"ExtStat...|0144801e-ca63-42c...|    2016060601| 2074520|\n",
      "|           11001|      1|     100|2015-06-04 21:34:...|<d><nv n=\"ExtStat...|0144801e-ca63-42c...|    2016060601| 2997600|\n",
      "+----------------+-------+--------+--------------------+--------------------+--------------------+--------------+--------+\n",
      "only showing top 20 rows\n",
      "\n"
     ]
    }
   ],
   "source": [
    "df.show()"
   ]
  },
  {
   "cell_type": "markdown",
   "metadata": {},
   "source": [
    "xmld = lines.map(lambda x:x.split(\"^\")[4])"
   ]
  },
  {
   "cell_type": "code",
   "execution_count": null,
   "metadata": {},
   "outputs": [],
   "source": []
  },
  {
   "cell_type": "code",
   "execution_count": null,
   "metadata": {},
   "outputs": [],
   "source": []
  }
 ],
 "metadata": {
  "kernelspec": {
   "display_name": "Python 3",
   "language": "python",
   "name": "python3"
  },
  "language_info": {
   "codemirror_mode": {
    "name": "ipython",
    "version": 3
   },
   "file_extension": ".py",
   "mimetype": "text/x-python",
   "name": "python",
   "nbconvert_exporter": "python",
   "pygments_lexer": "ipython3",
   "version": "3.6.7"
  }
 },
 "nbformat": 4,
 "nbformat_minor": 2
}
